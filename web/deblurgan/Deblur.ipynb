{
 "cells": [
  {
   "cell_type": "code",
   "execution_count": 1,
   "metadata": {},
   "outputs": [
    {
     "name": "stdout",
     "output_type": "stream",
     "text": [
      "Collecting numpy==1.16.0"
     ]
    },
    {
     "name": "stderr",
     "output_type": "stream",
     "text": [
      "ERROR: pip's dependency resolver does not currently take into account all the packages that are installed. This behaviour is the source of the following dependency conflicts.\n",
      "tensorboard 1.8.0 requires bleach==1.5.0, but you have bleach 3.3.1 which is incompatible.\n"
     ]
    },
    {
     "name": "stdout",
     "output_type": "stream",
     "text": [
      "\n",
      "  Using cached numpy-1.16.0-cp36-cp36m-win_amd64.whl (11.9 MB)\n",
      "Installing collected packages: numpy\n",
      "  Attempting uninstall: numpy\n",
      "    Found existing installation: numpy 1.19.5\n",
      "    Uninstalling numpy-1.19.5:\n",
      "      Successfully uninstalled numpy-1.19.5\n",
      "Successfully installed numpy-1.16.0\n",
      "Collecting keras==2.1.3\n",
      "  Downloading Keras-2.1.3-py2.py3-none-any.whl (319 kB)\n",
      "Collecting scipy>=0.14\n",
      "  Downloading scipy-1.5.4-cp36-cp36m-win_amd64.whl (31.2 MB)\n",
      "Collecting pyyaml\n",
      "  Downloading PyYAML-5.4.1-cp36-cp36m-win_amd64.whl (209 kB)\n",
      "Requirement already satisfied: numpy>=1.9.1 in c:\\users\\hanedamasaki\\anaconda3\\envs\\tf_py36\\lib\\site-packages (from keras==2.1.3) (1.16.0)\n",
      "Requirement already satisfied: six>=1.9.0 in c:\\users\\hanedamasaki\\appdata\\roaming\\python\\python36\\site-packages (from keras==2.1.3) (1.15.0)\n",
      "Installing collected packages: scipy, pyyaml, keras\n",
      "Successfully installed keras-2.1.3 pyyaml-5.4.1 scipy-1.5.4\n"
     ]
    }
   ],
   "source": [
    "!pip install numpy==1.16.0\n",
    "!pip install keras==2.1.3"
   ]
  },
  {
   "cell_type": "code",
   "execution_count": 3,
   "metadata": {},
   "outputs": [
    {
     "name": "stdout",
     "output_type": "stream",
     "text": [
      "Collecting tqdm\n",
      "  Downloading tqdm-4.61.2-py2.py3-none-any.whl (76 kB)\n",
      "Requirement already satisfied: colorama in c:\\users\\hanedamasaki\\anaconda3\\envs\\tf_py36\\lib\\site-packages (from tqdm) (0.4.4)\n",
      "Installing collected packages: tqdm\n",
      "Successfully installed tqdm-4.61.2\n",
      "Collecting pillow\n",
      "  Downloading Pillow-8.3.1-1-cp36-cp36m-win_amd64.whl (3.2 MB)\n",
      "Installing collected packages: pillow\n",
      "Successfully installed pillow-8.3.1\n"
     ]
    }
   ],
   "source": [
    "!pip install tqdm\n",
    "!pip install pillow"
   ]
  },
  {
   "cell_type": "code",
   "execution_count": 1,
   "metadata": {},
   "outputs": [
    {
     "name": "stderr",
     "output_type": "stream",
     "text": [
      "Using TensorFlow backend.\n"
     ]
    }
   ],
   "source": [
    "import os\n",
    "import datetime\n",
    "import numpy as np\n",
    "import tqdm\n",
    "from PIL import Image\n",
    "\n",
    "from utils import load_images, write_log, deprocess_image, preprocess_image, load_image\n",
    "from losses import wasserstein_loss, perceptual_loss\n",
    "from dmodel import generator_model, discriminator_model, generator_containing_discriminator_multiple_outputs\n",
    "\n",
    "from keras.callbacks import TensorBoard\n",
    "from keras.optimizers import Adam"
   ]
  },
  {
   "cell_type": "code",
   "execution_count": 3,
   "metadata": {},
   "outputs": [],
   "source": [
    "BASE_DIR = 'weights/'\n",
    "\n",
    "def save_all_weights(d, g, epoch_number, current_loss):\n",
    "    now = datetime.datetime.now()\n",
    "    save_dir = os.path.join(BASE_DIR, '{}{}'.format(now.month, now.day))\n",
    "    if not os.path.exists(save_dir):\n",
    "        os.makedirs(save_dir)\n",
    "    g.save_weights(os.path.join(save_dir, 'generator_{}_{}.h5'.format(epoch_number, current_loss)), True)\n",
    "    d.save_weights(os.path.join(save_dir, 'discriminator_{}.h5'.format(epoch_number)), True)\n",
    "\n",
    "\n",
    "def train_multiple_outputs(n_images, batch_size, epoch_num, critic_updates):\n",
    "    data = load_images('./images/train', n_images)\n",
    "    y_train, x_train = data['B'], data['A']\n",
    "    print(\"creating models...\")\n",
    "    g = generator_model()\n",
    "    d = discriminator_model()\n",
    "    d_on_g = generator_containing_discriminator_multiple_outputs(g, d)\n",
    "\n",
    "    d_opt = Adam(lr=1E-4, beta_1=0.9, beta_2=0.999, epsilon=1e-08)\n",
    "    d_on_g_opt = Adam(lr=1E-4, beta_1=0.9, beta_2=0.999, epsilon=1e-08)\n",
    "\n",
    "    d.trainable = True\n",
    "    d.compile(optimizer=d_opt, loss=wasserstein_loss)\n",
    "    d.trainable = False\n",
    "    loss = [perceptual_loss, wasserstein_loss]\n",
    "    loss_weights = [100, 1]\n",
    "    d_on_g.compile(optimizer=d_on_g_opt, loss=loss, loss_weights=loss_weights)\n",
    "    d.trainable = True\n",
    "    print(\"ok.\")\n",
    "\n",
    "    output_true_batch, output_false_batch = np.ones((batch_size, 1)), -np.ones((batch_size, 1))\n",
    "\n",
    "#     log_path = './logs'\n",
    "#     tensorboard_callback = TensorBoard(log_path)\n",
    "\n",
    "    for epoch in tqdm.tqdm(range(epoch_num)):\n",
    "        permutated_indexes = np.random.permutation(x_train.shape[0])\n",
    "\n",
    "        d_losses = []\n",
    "        d_on_g_losses = []\n",
    "        for index in range(int(x_train.shape[0] / batch_size)):\n",
    "            batch_indexes = permutated_indexes[index*batch_size:(index+1)*batch_size]\n",
    "            image_blur_batch = x_train[batch_indexes]\n",
    "            image_full_batch = y_train[batch_indexes]\n",
    "            print(\"predicting...\")\n",
    "            generated_images = g.predict(x=image_blur_batch, batch_size=batch_size)\n",
    "            print(\"ok..\")\n",
    "\n",
    "            for _ in range(critic_updates):\n",
    "                print(\"d train on batch...\")\n",
    "                d_loss_real = d.train_on_batch(image_full_batch, output_true_batch)\n",
    "                d_loss_fake = d.train_on_batch(generated_images, output_false_batch)\n",
    "                print(\"ok...\")\n",
    "                d_loss = 0.5 * np.add(d_loss_fake, d_loss_real)\n",
    "                d_losses.append(d_loss)\n",
    "\n",
    "            d.trainable = False\n",
    "\n",
    "            d_on_g_loss = d_on_g.train_on_batch(image_blur_batch, [image_full_batch, output_true_batch])\n",
    "            d_on_g_losses.append(d_on_g_loss)\n",
    "\n",
    "            d.trainable = True\n",
    "\n",
    "#         # write_log(tensorboard_callback, ['g_loss', 'd_on_g_loss'], [np.mean(d_losses), np.mean(d_on_g_losses)], epoch_num)\n",
    "#         print(np.mean(d_losses), np.mean(d_on_g_losses))\n",
    "#         with open('log.txt', 'a+') as f:\n",
    "#             f.write('{} - {} - {}\\n'.format(epoch, np.mean(d_losses), np.mean(d_on_g_losses)))\n",
    "\n",
    "        save_all_weights(d, g, epoch, int(np.mean(d_on_g_losses)))\n",
    "\n",
    "def train_command(n_images, batch_size, epoch_num, critic_updates):\n",
    "    return train_multiple_outputs(n_images, batch_size, epoch_num, critic_updates)"
   ]
  },
  {
   "cell_type": "code",
   "execution_count": null,
   "metadata": {},
   "outputs": [],
   "source": [
    "train_command(n_images=512, batch_size=8, epoch_num=4, critic_updates=5)"
   ]
  },
  {
   "cell_type": "code",
   "execution_count": 2,
   "metadata": {},
   "outputs": [],
   "source": [
    "def test(batch_size):\n",
    "    print(\"loading data...\")\n",
    "    data = load_images('./images/test', batch_size)\n",
    "    print(\"loaded\")\n",
    "    y_test, x_test = data['B'], data['A']\n",
    "    print(\"loading model...\")\n",
    "    g = generator_model()\n",
    "    print(\"loaded\")\n",
    "    print(\"loading weights...\")\n",
    "    g.load_weights('generator.h5')\n",
    "    print(\"loaded\")\n",
    "    print(\"predicting...\")\n",
    "    generated_images = g.predict(x=x_test, batch_size=batch_size)\n",
    "    print(\"done\")\n",
    "    generated = np.array([deprocess_image(img) for img in generated_images])\n",
    "    x_test = deprocess_image(x_test)\n",
    "    y_test = deprocess_image(y_test)\n",
    "\n",
    "    for i in range(generated_images.shape[0]):\n",
    "        y = y_test[i, :, :, :]\n",
    "        x = x_test[i, :, :, :]\n",
    "        img = generated[i, :, :, :]\n",
    "        output = np.concatenate((y, x, img), axis=1)\n",
    "        im = Image.fromarray(output.astype(np.uint8))\n",
    "        im.save('test_results/result{}.png'.format(i))"
   ]
  },
  {
   "cell_type": "code",
   "execution_count": 5,
   "metadata": {},
   "outputs": [
    {
     "name": "stdout",
     "output_type": "stream",
     "text": [
      "loading data...\n",
      "loaded\n",
      "loading model...\n",
      "loaded\n",
      "loading weights...\n",
      "loaded\n",
      "predicting...\n",
      "done\n"
     ]
    }
   ],
   "source": [
    "test(batch_size=5)"
   ]
  },
  {
   "cell_type": "code",
   "execution_count": 6,
   "metadata": {},
   "outputs": [],
   "source": [
    "def deblur(weight_path, input_dir, output_dir):\n",
    "    g = generator_model()\n",
    "    g.load_weights(weight_path)\n",
    "    for image_name in os.listdir(input_dir):\n",
    "        image = np.array([preprocess_image(load_image(os.path.join(input_dir, image_name)))])\n",
    "        x_test = image\n",
    "        generated_images = g.predict(x=x_test)\n",
    "        generated = np.array([deprocess_image(img) for img in generated_images])\n",
    "        x_test = deprocess_image(x_test)\n",
    "        for i in range(generated_images.shape[0]):\n",
    "            x = x_test[i, :, :, :]\n",
    "            img = generated[i, :, :, :]\n",
    "            output = np.concatenate((x, img), axis=1)\n",
    "            im = Image.fromarray(output.astype(np.uint8))\n",
    "            im.save(os.path.join(output_dir, image_name))"
   ]
  },
  {
   "cell_type": "code",
   "execution_count": 8,
   "metadata": {},
   "outputs": [],
   "source": [
    "deblur(\"generator.h5\", \"own_images\", \"results\")"
   ]
  },
  {
   "cell_type": "code",
   "execution_count": null,
   "metadata": {},
   "outputs": [],
   "source": []
  }
 ],
 "metadata": {
  "kernelspec": {
   "display_name": "Python 3",
   "language": "python",
   "name": "python3"
  },
  "language_info": {
   "codemirror_mode": {
    "name": "ipython",
    "version": 3
   },
   "file_extension": ".py",
   "mimetype": "text/x-python",
   "name": "python",
   "nbconvert_exporter": "python",
   "pygments_lexer": "ipython3",
   "version": "3.8.8"
  }
 },
 "nbformat": 4,
 "nbformat_minor": 4
}
